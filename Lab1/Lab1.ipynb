{
 "cells": [
  {
   "cell_type": "markdown",
   "id": "9eb44c3c-3e3b-4eaf-9b0c-fdc1a5b5ab63",
   "metadata": {},
   "source": [
    "# Лабораторная №1\n",
    "### Задача:\n",
    "\n",
    "Имеется выборка случайной величины x, представленная в виде интервального статистического ряда таблицей.\n",
    "\n",
    "### 1. Графическое анализ:\n",
    "\n",
    "- Построить гистограмму и график эмпирической функции распределения $F_n(x)$.\n",
    "\n",
    "### 2. Вычислительный анализ:\n",
    "\n",
    "- Вычислить следующие выборочные характеристики:\n",
    "    - выборочное среднее\n",
    "    \n",
    "    $$\n",
    "    \\overline{X}_n=\\sum_{i=1}^{k}\\hat{x_i}\n",
    "    $$\n",
    "    $$ \\hat{x_i} = \\frac{z_{i-1}+z_i}{2}$$\n",
    "\n",
    "    - выборочную дисперсию (исправленная выборочная дисперсия без смещения)\n",
    "    \n",
    "    $$\n",
    "    S_n^2=\\dfrac{1}{n}\\sum_{j=1}^{n}(x_j-\\overline{X}_n)^2\\\\\n",
    "    s_n^2=\\dfrac{n}{n-1}S_n^2\n",
    "    $$\n",
    "    \n",
    "    - медиану\n",
    "      $$ M = L + W\\frac{\\frac{N}{2} – C}{F} $$\n",
    "        - L : Нижний предел среднего класса\n",
    "        - W : Ширина среднего класса\n",
    "        - N : Общая частота\n",
    "        - C : Суммарная частота до медианного класса\n",
    "        - F : Частота среднего класса\n",
    "          \n",
    "    - коэффициент вариации\n",
    "    \n",
    "    $$\n",
    "    c_v=\\dfrac{\\sqrt{D_\\xi}}{M\\xi},M\\xi\\neq0\n",
    "    $$\n",
    "    \n",
    "    - коэффициент асимметрии\n",
    "    \n",
    "    $$\n",
    "    \\zeta = \\frac{\\hat{M_3}}{(S_n^2)^\\frac{3}{2}}\n",
    "    $$\n",
    "    \n",
    "    - эксцесс\n",
    "    \n",
    "    $$\n",
    "    ae_4 = \\hat{M_4}-3(S_n^2)^2\n",
    "    $$\n",
    "    \n",
    "\n",
    "### 3. Анализ с добавлением флуктуаций:\n",
    "\n",
    "- Искусственно добавить к данным большую флуктуацию на уровне порядка ~1000. Проанализировать, как изменятся ранее вычисленные параметры (среднее, дисперсия, медиана, коэффициент вариации, коэффициент асимметрии, эксцесс) и почему происходят такие изменения.\n",
    "\n",
    "|<!-- -->|<!-- -->|<!-- -->|<!-- -->|<!-- -->|<!-- -->|\n",
    "|:---:|:---:|:---:|:---:|:---:|:---:|\n",
    "|**Интервал**|(100;105)|(105;110)|(110;115)|(115;120)|(120;125)|\n",
    "|**Частота**|45|105|100|40|10|\n",
    "\n",
    "\n"
   ]
  },
  {
   "cell_type": "markdown",
   "id": "50ccb164-53fa-4756-baa2-6a5db66b5219",
   "metadata": {},
   "source": [
    "### Графическое анализ:\n",
    "$$ l_i = \\frac{n_i}{n (z_k - z_{k-1})} $$\n",
    "\n",
    "- l<sub>i</sub> - высота i-го столбика\n",
    "- n<sub>i</sub> - число значений в i-ом интервале\n",
    "- n общее число значений\n",
    "- z<sub>i</sub> - z<sub>i-1</sub> - ширина i-го интервала"
   ]
  },
  {
   "cell_type": "code",
   "execution_count": 1,
   "id": "e373c765-7446-4f20-950e-5fe74f4eaa36",
   "metadata": {},
   "outputs": [],
   "source": [
    "%matplotlib inline\n",
    "import matplotlib.pyplot as plt"
   ]
  },
  {
   "cell_type": "code",
   "execution_count": 2,
   "id": "459bc9f9-621b-45e7-b3af-ed9a58c17d02",
   "metadata": {},
   "outputs": [],
   "source": [
    "hitcounts = [45, 105, 100, 40, 10]\n",
    "intervals = [(100,105), (105,110), (110,115), (115,120), (120,125)]"
   ]
  },
  {
   "cell_type": "code",
   "execution_count": 3,
   "id": "23ae78f4-bbd8-4a7b-b90b-47b4213293b5",
   "metadata": {},
   "outputs": [],
   "source": [
    "def plot_hist(intervals, hitcounts):\n",
    "    total_hitcount = sum(hitcounts)\n",
    "    interval_step = intervals[0][1]-intervals[0][0]\n",
    "    overline_height = [hitcount/(total_hitcount*interval_step) for hitcount in hitcounts]\n",
    "\n",
    "    fig = plt.figure(figsize=(6,4))\n",
    "    plt.title('Гистограмма')\n",
    "    for interval, height in zip(intervals, overline_height):\n",
    "        plt.vlines(x = interval[0], ymin = 0, ymax = height)\n",
    "        plt.vlines(x = interval[1], ymin = 0, ymax = height)\n",
    "        plt.hlines(y=height, xmin = interval[0], xmax= interval[1])\n",
    "        \n",
    "    plt.plot()"
   ]
  },
  {
   "cell_type": "code",
   "execution_count": 4,
   "id": "ecaf8258-cb32-4050-be3e-51484cf4259b",
   "metadata": {},
   "outputs": [
    {
     "data": {
      "image/png": "[encoded data removed]",
      "text/plain": [
       "<Figure size 600x400 with 1 Axes>"
      ]
     },
     "metadata": {},
     "output_type": "display_data"
    }
   ],
   "source": [
    "plot_hist(intervals, hitcounts)"
   ]
  },
  {
   "cell_type": "code",
   "execution_count": 5,
   "id": "48dc2e85-3e5f-4e0d-a66f-2050f6638f0c",
   "metadata": {},
   "outputs": [],
   "source": [
    "from numpy import cumsum\n",
    "def plot_emp_function(intervals, hicounts): #emperical distribution function plot\n",
    "    total_hitcount = sum(hicounts)\n",
    "    proportion_hicount = [hitcount/total_hitcount for hitcount in hicounts]\n",
    "    emp_function = list(cumsum(proportion_hicount))\n",
    "\n",
    "    fig = plt.figure(figsize=(6,4))\n",
    "    plt.title('Эмперическая функция распределения')\n",
    "    step = intervals[0][1] - intervals[0][0]\n",
    "    extended_intervals = [(intervals[0][0]-step, intervals[0][1]-step)] + intervals + [(intervals[-1][0]+step, intervals[-1][1]+step)]\n",
    "    emp_function.insert(0, 0)\n",
    "    emp_function.append(1)\n",
    "\n",
    "    for interval, distribution_value in zip(extended_intervals, emp_function):\n",
    "        plt.vlines(x = interval[0], ymin = 0, ymax = distribution_value, linestyles='dotted')\n",
    "        plt.vlines(x = interval[1], ymin = 0, ymax = distribution_value, linestyles='dotted')\n",
    "        plt.hlines(y=distribution_value, xmin = interval[0], xmax= interval[1])\n",
    "\n",
    "    plt.plot()"
   ]
  },
  {
   "cell_type": "code",
   "execution_count": 6,
   "id": "09634ba1-06f9-422d-9e55-a0871737fee9",
   "metadata": {},
   "outputs": [
    {
     "data": {
      "image/png": "[encoded data removed]",
      "text/plain": [
       "<Figure size 600x400 with 1 Axes>"
      ]
     },
     "metadata": {},
     "output_type": "display_data"
    }
   ],
   "source": [
    "plot_emp_function(intervals,hitcounts)"
   ]
  },
  {
   "cell_type": "markdown",
   "id": "0630fcad-754c-4aa8-b167-326ef0ed5e90",
   "metadata": {},
   "source": [
    "### 2. Вычислительный анализ:\n",
    " 1. выборочное среднее:\n",
    "\n",
    "$$\n",
    "\\overline{X}_n=\\sum_{i=1}^{k}\\hat{x_i}\n",
    "$$\n",
    "$$ \\hat{x_i} = \\frac{z_{i-1}+z_i}{2}$$\n"
   ]
  },
  {
   "cell_type": "code",
   "execution_count": 7,
   "id": "13fad8ed-66b7-4587-9bee-ad00c2d0a37e",
   "metadata": {},
   "outputs": [],
   "source": [
    "def average(intervals, hitcounts):\n",
    "    N = sum(hitcounts)\n",
    "    result = 0.0\n",
    "    for i in range(len(hitcounts)):\n",
    "        dz = (intervals[i][0]+intervals[i][1])/2\n",
    "        result += dz * hitcounts[i] / N\n",
    "    return result"
   ]
  },
  {
   "cell_type": "code",
   "execution_count": 8,
   "id": "236aeebd-c8f3-40fd-bcf2-de0079fd41d7",
   "metadata": {},
   "outputs": [
    {
     "data": {
      "text/plain": [
       "110.25"
      ]
     },
     "execution_count": 8,
     "metadata": {},
     "output_type": "execute_result"
    }
   ],
   "source": [
    "average(intervals, hitcounts)"
   ]
  },
  {
   "cell_type": "markdown",
   "id": "71a6a44e-4ea6-4dba-91ff-417eadab1673",
   "metadata": {},
   "source": [
    "$$\\overline{X}_n=110.25$$"
   ]
  },
  {
   "cell_type": "markdown",
   "id": "1469f67a-bb08-40fd-bea0-f9f56dc82d4c",
   "metadata": {},
   "source": [
    "2. выборочная дисперсия (исправленная выборочная дисперсия без смещения):\n",
    "    \n",
    "$$\n",
    "S_n^2=\\sum_{j=1}^{n}(\\hat{x_i}-\\overline{X}_n)^2\\dfrac{n_i}{n}\n",
    "$$\n",
    "$$\n",
    "s_n^2=\\dfrac{n}{n-1}S_n^2\n",
    "$$"
   ]
  },
  {
   "cell_type": "code",
   "execution_count": 9,
   "id": "99ae26cb-6c4c-4698-b4e3-e6f658175e01",
   "metadata": {},
   "outputs": [],
   "source": [
    "def dispersion(intervals, hitcounts):\n",
    "    N = sum(hitcounts)\n",
    "    result = 0.0\n",
    "    avg = average(intervals, hitcounts)\n",
    "    for i in range(len(hitcounts)):\n",
    "        dz = (intervals[i][0]+intervals[i][1])/2\n",
    "        result += (dz-avg)*(dz-avg) * hitcounts[i] / N\n",
    "    return result"
   ]
  },
  {
   "cell_type": "code",
   "execution_count": 10,
   "id": "bfe3e2c0-aef6-4a68-b81b-4324de5c5ea6",
   "metadata": {},
   "outputs": [
    {
     "data": {
      "text/plain": [
       "25.354166666666664"
      ]
     },
     "execution_count": 10,
     "metadata": {},
     "output_type": "execute_result"
    }
   ],
   "source": [
    "dispersion(intervals, hitcounts)"
   ]
  },
  {
   "cell_type": "code",
   "execution_count": 11,
   "id": "187acca8-3a58-4dfb-a02b-26c5e408aa4f",
   "metadata": {},
   "outputs": [],
   "source": [
    "def dispersion_fixed(intervals, hitcounts):\n",
    "    k = len(hitcounts)\n",
    "    return k / (k-1) * dispersion(intervals, hitcounts)"
   ]
  },
  {
   "cell_type": "code",
   "execution_count": 12,
   "id": "e85eafac-db37-4e8c-bcbb-0db15e73d08d",
   "metadata": {},
   "outputs": [
    {
     "data": {
      "text/plain": [
       "31.69270833333333"
      ]
     },
     "execution_count": 12,
     "metadata": {},
     "output_type": "execute_result"
    }
   ],
   "source": [
    "dispersion_fixed(intervals, hitcounts)"
   ]
  },
  {
   "cell_type": "markdown",
   "id": "ef8897a9-7e9f-49e3-a914-b5aec5fa5d8d",
   "metadata": {},
   "source": [
    "$$\n",
    "S_n^2= 25.35\n",
    "$$\n",
    "$$\n",
    "s_n^2= 31.69\n",
    "$$"
   ]
  },
  {
   "cell_type": "markdown",
   "id": "0f8590f5-67dd-40ae-b1db-13494af014e0",
   "metadata": {},
   "source": [
    "3. медиана сгруппированных данных:\n",
    "\n",
    "$$ M = L + W\\frac{\\frac{N}{2} – C}{F} $$\n",
    "- L : Нижний предел среднего класса\n",
    "- W : Ширина среднего класса\n",
    "- N : Общая частота\n",
    "- C : Суммарная частота до медианного класса\n",
    "- F : Частота среднего класса"
   ]
  },
  {
   "cell_type": "code",
   "execution_count": 13,
   "id": "d1d6708b-af17-4f85-b049-132f3c2896f5",
   "metadata": {},
   "outputs": [],
   "source": [
    "def median(intervals, hitcounts):\n",
    "    N = sum(hitcounts)\n",
    "    cumulative_sum = 0\n",
    "    median_interval = None\n",
    "\n",
    "    for i in range(len(hitcounts)):\n",
    "        cumulative_sum += hitcounts[i]\n",
    "        if cumulative_sum >= N / 2:\n",
    "            median_interval = i\n",
    "            break\n",
    "\n",
    "    L = intervals[i][0]\n",
    "    W = intervals[i][1]-intervals[i][0]\n",
    "    C = cumulative_sum - hitcounts[i]\n",
    "    F = hitcounts[i]\n",
    "\n",
    "    return L + W * ((N/2 - C)/F)    \n",
    "    "
   ]
  },
  {
   "cell_type": "code",
   "execution_count": 14,
   "id": "ee7b3def-ea73-4fa2-96e9-d6aada586f7f",
   "metadata": {},
   "outputs": [
    {
     "data": {
      "text/plain": [
       "110.0"
      ]
     },
     "execution_count": 14,
     "metadata": {},
     "output_type": "execute_result"
    }
   ],
   "source": [
    "median(intervals, hitcounts)"
   ]
  },
  {
   "cell_type": "markdown",
   "id": "2ca56030-5b2a-4242-a395-f9d6e052410d",
   "metadata": {},
   "source": [
    "$$\n",
    "M = 110\n",
    "$$"
   ]
  },
  {
   "cell_type": "markdown",
   "id": "674401bd-1ae4-43d5-887a-45fb5a5b8df1",
   "metadata": {},
   "source": [
    "4. Коэффициент вариации:\n",
    "$$ c_V = \\frac{\\sqrt{S_n^2}}{\\overline{X}_n} $$"
   ]
  },
  {
   "cell_type": "code",
   "execution_count": 15,
   "id": "0ec904dc-3d25-432a-990c-07420837f026",
   "metadata": {},
   "outputs": [],
   "source": [
    "from math import sqrt\n",
    "def variation(intervals, hitcounts):\n",
    "    S2n = dispersion(intervals, hitcounts)\n",
    "    avg = average(intervals, hitcounts)\n",
    "    return sqrt(S2n)/avg"
   ]
  },
  {
   "cell_type": "code",
   "execution_count": 16,
   "id": "ade59881-8a6d-4174-8a82-060d3d0f5576",
   "metadata": {},
   "outputs": [
    {
     "data": {
      "text/plain": [
       "0.04567158379446952"
      ]
     },
     "execution_count": 16,
     "metadata": {},
     "output_type": "execute_result"
    }
   ],
   "source": [
    "variation(intervals, hitcounts)"
   ]
  },
  {
   "cell_type": "markdown",
   "id": "34d7b0d1-f65a-4e01-a244-f86474ae3f96",
   "metadata": {},
   "source": [
    "$$\n",
    "c_V=0.046\n",
    "$$"
   ]
  },
  {
   "cell_type": "markdown",
   "id": "009de93e-10a0-4552-a0de-1bc92cef818b",
   "metadata": {},
   "source": [
    "k-тый центральный момент:\n",
    "$$ \\hat{x^*} = \\frac{z_{i-1}+z_i}{2}$$\n",
    "$$ \\hat{M_k} = \\sum_{i=1}^{k} (\\hat{x^*} - \\overline{X_n})^k \\frac{n_i}{n}$$"
   ]
  },
  {
   "cell_type": "code",
   "execution_count": 17,
   "id": "181e4e6a-2c25-4ca7-bb6e-eb94c66f16ea",
   "metadata": {},
   "outputs": [],
   "source": [
    "def k_moment(intervals, hitcounts, k = 2):\n",
    "    N = sum(hitcounts)\n",
    "    result = 0.0\n",
    "    avg = average(intervals, hitcounts)\n",
    "    for i in range(len(hitcounts)):\n",
    "        dz = (intervals[i][0]+intervals[i][1])/2\n",
    "        result += ((dz-avg)**(k)) * hitcounts[i] / N\n",
    "    return result "
   ]
  },
  {
   "cell_type": "markdown",
   "id": "9171afd9-fe26-43d5-b0df-b048b9f11d94",
   "metadata": {},
   "source": [
    "5. Коэффициент ассиметрии:\n",
    "$$ \\zeta = \\frac{\\hat{M_3}}{(S_n^2)^\\frac{3}{2}} $$"
   ]
  },
  {
   "cell_type": "code",
   "execution_count": 18,
   "id": "9d6bd524-c17b-4883-b6e3-0dd5fc4e6f2d",
   "metadata": {},
   "outputs": [],
   "source": [
    "def skewness(intervals, hitcounts):\n",
    "    M3 = k_moment(intervals, hitcounts, 3)\n",
    "    S2n = dispersion(intervals, hitcounts)\n",
    "    return M3/(S2n)**(1.5)"
   ]
  },
  {
   "cell_type": "code",
   "execution_count": 19,
   "id": "31239a19-2673-4197-a511-5cae957346f5",
   "metadata": {},
   "outputs": [
    {
     "data": {
      "text/plain": [
       "0.30377203592166263"
      ]
     },
     "execution_count": 19,
     "metadata": {},
     "output_type": "execute_result"
    }
   ],
   "source": [
    "skewness(intervals, hitcounts)"
   ]
  },
  {
   "cell_type": "markdown",
   "id": "789a8177-a57d-4d53-8f8b-0a5315c4d638",
   "metadata": {},
   "source": [
    "$$\n",
    "\\zeta = 0.304\n",
    "$$"
   ]
  },
  {
   "cell_type": "markdown",
   "id": "3b39de24-3d12-49a7-bb86-dcd61c19b291",
   "metadata": {},
   "source": [
    "6. Эксцесс:\n",
    "$$ ae_4 = \\hat{M_4}-3(S_n^2)^2$$"
   ]
  },
  {
   "cell_type": "code",
   "execution_count": 20,
   "id": "d096e8bf-035a-4312-8238-9fd5c80eb4a2",
   "metadata": {},
   "outputs": [],
   "source": [
    "def kurt(intervals, hitcounts):\n",
    "    M4 = k_moment(intervals, hitcounts, 4)\n",
    "    S2n = dispersion(intervals, hitcounts)\n",
    "    return M4 - 3 * (S2n*S2n)"
   ]
  },
  {
   "cell_type": "code",
   "execution_count": 21,
   "id": "970d97cd-519f-4304-a173-bc5522c2501a",
   "metadata": {},
   "outputs": [
    {
     "data": {
      "text/plain": [
       "-239.81510416666652"
      ]
     },
     "execution_count": 21,
     "metadata": {},
     "output_type": "execute_result"
    }
   ],
   "source": [
    "kurt(intervals, hitcounts)"
   ]
  },
  {
   "cell_type": "markdown",
   "id": "2f6dfe2e-f63c-409e-80d4-1b1be0b774dc",
   "metadata": {},
   "source": [
    "### 3. Анализ с добавлением флуктуаций:"
   ]
  },
  {
   "cell_type": "markdown",
   "id": "af738290-13e3-4913-8ded-aacbdf3a59bc",
   "metadata": {},
   "source": [
    "\n",
    "Добавим к нашим данным ещё один интервал (995, 1000), в котором будет находиться только 1 значение.\n",
    "\n",
    "Данные примут следующий вид:\n",
    "\n",
    "| **Интервал**   | (140;145)  | (145;150)  | (150;155)  | (155;160)  | (160;165)  | (995,1000)|\n",
    "|:--------------:|:----------:|:----------:|:----------:|:----------:|:----------:|:---------:|\n",
    "|  **Частота**   |     45     |     105    |    100     |     40     |     10     |     1     |"
   ]
  },
  {
   "cell_type": "code",
   "execution_count": 22,
   "id": "873d6ed4-9374-4248-9e58-56098c0ac450",
   "metadata": {},
   "outputs": [],
   "source": [
    "hitcounts_fluc = [45, 105, 100, 40, 10, 1]\n",
    "intervals_fluc = [(100,105), (105,110), (110,115), (115,120), (120,125), (995, 1000)]"
   ]
  },
  {
   "cell_type": "code",
   "execution_count": 23,
   "id": "62433aaa-0820-42b2-9d99-de4335a45cfa",
   "metadata": {},
   "outputs": [
    {
     "name": "stdout",
     "output_type": "stream",
     "text": [
      "110.25 113.19767441860465\n"
     ]
    }
   ],
   "source": [
    "avg = average(intervals, hitcounts)\n",
    "avg_fluc = average(intervals_fluc, hitcounts_fluc)\n",
    "print(avg, avg_fluc)"
   ]
  },
  {
   "cell_type": "code",
   "execution_count": 24,
   "id": "fbaa3eb6-8fd4-4a95-bcd8-8ac8c9afe2e3",
   "metadata": {},
   "outputs": [
    {
     "name": "stdout",
     "output_type": "stream",
     "text": [
      "25.354166666666664 2631.905276983698\n"
     ]
    }
   ],
   "source": [
    "S2n = dispersion(intervals, hitcounts)\n",
    "S2n_fluc = dispersion(intervals_fluc, hitcounts_fluc)\n",
    "print(S2n, S2n_fluc)"
   ]
  },
  {
   "cell_type": "code",
   "execution_count": 25,
   "id": "96288d2d-e88c-4f9d-bb7a-df2e1e980949",
   "metadata": {},
   "outputs": [
    {
     "name": "stdout",
     "output_type": "stream",
     "text": [
      "110.0 110.025\n"
     ]
    }
   ],
   "source": [
    "med = median(intervals, hitcounts)\n",
    "med_fluc = median(intervals_fluc, hitcounts_fluc)\n",
    "print(med, med_fluc)"
   ]
  },
  {
   "cell_type": "code",
   "execution_count": 26,
   "id": "5ad70397-f48e-484a-b9af-3981cc1bc90f",
   "metadata": {},
   "outputs": [
    {
     "name": "stdout",
     "output_type": "stream",
     "text": [
      "0.04567158379446952 0.4532080578227488\n"
     ]
    }
   ],
   "source": [
    "cofvar = variation(intervals, hitcounts)\n",
    "cofvar_fluc = variation(intervals_fluc, hitcounts_fluc)\n",
    "print(cofvar, cofvar_fluc)"
   ]
  },
  {
   "cell_type": "code",
   "execution_count": 27,
   "id": "c6ee5fe2-110d-4d1a-a89a-198eed9ac6ac",
   "metadata": {},
   "outputs": [
    {
     "name": "stdout",
     "output_type": "stream",
     "text": [
      "0.30377203592166263 17.013382269195958\n"
     ]
    }
   ],
   "source": [
    "skwns = skewness(intervals, hitcounts)\n",
    "skwns_fluc = skewness(intervals_fluc, hitcounts_fluc)\n",
    "print(skwns, skwns_fluc)"
   ]
  },
  {
   "cell_type": "code",
   "execution_count": 28,
   "id": "3d9065d8-bf4a-497a-a040-5006c17316d9",
   "metadata": {},
   "outputs": [
    {
     "name": "stdout",
     "output_type": "stream",
     "text": [
      "-239.81510416666652 2010814213.328954\n"
     ]
    }
   ],
   "source": [
    "krt = kurt(intervals, hitcounts)\n",
    "krt_fluc = kurt(intervals_fluc, hitcounts_fluc)\n",
    "print(krt, krt_fluc)"
   ]
  },
  {
   "cell_type": "code",
   "execution_count": 29,
   "id": "86718ca5-50cd-4468-95d6-4281cab33155",
   "metadata": {},
   "outputs": [
    {
     "data": {
      "text/plain": [
       "2031594989.4899979"
      ]
     },
     "execution_count": 29,
     "metadata": {},
     "output_type": "execute_result"
    }
   ],
   "source": [
    "k_moment(intervals_fluc, hitcounts_fluc, 4)"
   ]
  },
  {
   "cell_type": "markdown",
   "id": "cb2b2898-3a3d-40a3-926c-576f48a80d9a",
   "metadata": {},
   "source": [
    "|      **Показатель**      | **На исходных данных** | **На данных с флуктуацией** |\n",
    "|:------------------------:|:----------------------:|:---------------------------:|\n",
    "|         _Среднее_        |         110.25         |           113.198           |\n",
    "| _Дисперсия_              |         25.354         |           2631.905           |\n",
    "| _Медиана_                |         110.00         |           110.025           |\n",
    "| _Коэффициент вариации_   |         0.046        |            0.453           |\n",
    "| _Коэффициент ассиметрии_ |         0.304         |            17.013           |\n",
    "| _Коэффициент эксцесса_   |         -239.815         |            2010814213.329           |"
   ]
  }
 ],
 "metadata": {
  "kernelspec": {
   "display_name": "Python 3 (ipykernel)",
   "language": "python",
   "name": "python3"
  },
  "language_info": {
   "codemirror_mode": {
    "name": "ipython",
    "version": 3
   },
   "file_extension": ".py",
   "mimetype": "text/x-python",
   "name": "python",
   "nbconvert_exporter": "python",
   "pygments_lexer": "ipython3",
   "version": "3.12.2"
  }
 },
 "nbformat": 4,
 "nbformat_minor": 5
}
